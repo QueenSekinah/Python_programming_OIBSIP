{
 "cells": [
  {
   "cell_type": "code",
   "execution_count": 27,
   "id": "a1067132",
   "metadata": {},
   "outputs": [
    {
     "name": "stdout",
     "output_type": "stream",
     "text": [
      "Requirement already satisfied: SpeechRecognition in c:\\users\\dell\\new folder\\anaconda\\lib\\site-packages (3.10.1)Note: you may need to restart the kernel to use updated packages.\n",
      "\n",
      "Requirement already satisfied: requests>=2.26.0 in c:\\users\\dell\\new folder\\anaconda\\lib\\site-packages (from SpeechRecognition) (2.31.0)\n",
      "Requirement already satisfied: typing-extensions in c:\\users\\dell\\new folder\\anaconda\\lib\\site-packages (from SpeechRecognition) (4.7.1)\n",
      "Requirement already satisfied: charset-normalizer<4,>=2 in c:\\users\\dell\\new folder\\anaconda\\lib\\site-packages (from requests>=2.26.0->SpeechRecognition) (2.0.4)\n",
      "Requirement already satisfied: idna<4,>=2.5 in c:\\users\\dell\\new folder\\anaconda\\lib\\site-packages (from requests>=2.26.0->SpeechRecognition) (3.4)\n",
      "Requirement already satisfied: urllib3<3,>=1.21.1 in c:\\users\\dell\\new folder\\anaconda\\lib\\site-packages (from requests>=2.26.0->SpeechRecognition) (1.26.16)\n",
      "Requirement already satisfied: certifi>=2017.4.17 in c:\\users\\dell\\new folder\\anaconda\\lib\\site-packages (from requests>=2.26.0->SpeechRecognition) (2023.11.17)\n"
     ]
    }
   ],
   "source": [
    "pip install SpeechRecognition"
   ]
  },
  {
   "cell_type": "code",
   "execution_count": 28,
   "id": "74801f37",
   "metadata": {},
   "outputs": [
    {
     "data": {
      "text/plain": [
       "'3.8.1'"
      ]
     },
     "execution_count": 28,
     "metadata": {},
     "output_type": "execute_result"
    }
   ],
   "source": [
    "import speech_recognition as sr\n",
    "sr.__version__\n",
    "'3.8.1'"
   ]
  },
  {
   "cell_type": "code",
   "execution_count": 29,
   "id": "ee23159e",
   "metadata": {},
   "outputs": [],
   "source": [
    "r = sr.Recognizer()"
   ]
  },
  {
   "cell_type": "code",
   "execution_count": 30,
   "id": "562f2b1d",
   "metadata": {},
   "outputs": [],
   "source": [
    "import speech_recognition as sr\n",
    "\n",
    "# Specify the file path\n",
    "file_path = r\"C:\\Windows\\python-speech-recognition-master\\audio_files\\harvard.wav\"\n",
    "\n",
    "# Initialize the AudioFile object\n",
    "harvard = sr.AudioFile(file_path)\n",
    "\n",
    "# Use the AudioFile object as a context manager\n",
    "with harvard as source:\n",
    "    audio = r.record(source)"
   ]
  },
  {
   "cell_type": "code",
   "execution_count": 31,
   "id": "d379c0f1",
   "metadata": {},
   "outputs": [
    {
     "data": {
      "text/plain": [
       "speech_recognition.audio.AudioData"
      ]
     },
     "execution_count": 31,
     "metadata": {},
     "output_type": "execute_result"
    }
   ],
   "source": [
    "type(audio)"
   ]
  },
  {
   "cell_type": "code",
   "execution_count": 32,
   "id": "ae992df2",
   "metadata": {},
   "outputs": [
    {
     "data": {
      "text/plain": [
       "'the stale smell of old beer lingers it takes heat to bring out the odor a cold dip restores health and Zest a salt pickle taste fine with ham tacos Al pastor are my favourite a zestful food is the hot cross bun'"
      ]
     },
     "execution_count": 32,
     "metadata": {},
     "output_type": "execute_result"
    }
   ],
   "source": [
    "r.recognize_google(audio)"
   ]
  },
  {
   "cell_type": "code",
   "execution_count": 33,
   "id": "be032e60",
   "metadata": {},
   "outputs": [
    {
     "data": {
      "text/plain": [
       "'the stale smell of old beer lingers'"
      ]
     },
     "execution_count": 33,
     "metadata": {},
     "output_type": "execute_result"
    }
   ],
   "source": [
    "with harvard as source :\n",
    "    audio = r.record(source, duration = 4)\n",
    "r.recognize_google(audio)"
   ]
  },
  {
   "cell_type": "code",
   "execution_count": 34,
   "id": "5f2b3923",
   "metadata": {},
   "outputs": [],
   "source": [
    "with harvard as source:\n",
    "    audio1 = r.record(source, duration=4)\n",
    "    audio2 = r.record(source, duration=4)"
   ]
  },
  {
   "cell_type": "code",
   "execution_count": 35,
   "id": "bc7f88a6",
   "metadata": {},
   "outputs": [
    {
     "data": {
      "text/plain": [
       "'the stale smell of old beer lingers'"
      ]
     },
     "execution_count": 35,
     "metadata": {},
     "output_type": "execute_result"
    }
   ],
   "source": [
    "r.recognize_google(audio1)"
   ]
  },
  {
   "cell_type": "code",
   "execution_count": 36,
   "id": "f97f7f3b",
   "metadata": {},
   "outputs": [
    {
     "data": {
      "text/plain": [
       "'it takes heat to bring out the odor a cold dip'"
      ]
     },
     "execution_count": 36,
     "metadata": {},
     "output_type": "execute_result"
    }
   ],
   "source": [
    "r.recognize_google(audio2)"
   ]
  },
  {
   "cell_type": "code",
   "execution_count": 37,
   "id": "3fadd673",
   "metadata": {},
   "outputs": [
    {
     "data": {
      "text/plain": [
       "'it takes heat to bring out the odor'"
      ]
     },
     "execution_count": 37,
     "metadata": {},
     "output_type": "execute_result"
    }
   ],
   "source": [
    "with harvard as source:\n",
    "    \n",
    "    audio = r.record(source, offset=4, duration=3)\n",
    "\n",
    "r.recognize_google(audio)"
   ]
  },
  {
   "cell_type": "code",
   "execution_count": 41,
   "id": "ab4c5671",
   "metadata": {
    "scrolled": true
   },
   "outputs": [
    {
     "name": "stdout",
     "output_type": "stream",
     "text": [
      "Google Speech Recognition could not understand the audio.\n"
     ]
    }
   ],
   "source": [
    "import speech_recognition as sr\n",
    "\n",
    "# Initialize the recognizer\n",
    "r = sr.Recognizer()\n",
    "\n",
    "# Load the audio file\n",
    "harvard = sr.AudioFile(r\"C:\\Windows\\python-speech-recognition-master\\audio_files\\harvard.wav\")\n",
    "\n",
    "# Adjust the offset and duration parameters as needed\n",
    "with harvard as source:\n",
    "    audio = r.record(source, offset=4.7, duration=2.8)  # Capture the entire audio\n",
    "\n",
    "# Recognize speech using Google Speech Recognition\n",
    "try:\n",
    "    # Use recognize_google() method for speech recognition\n",
    "    text = r.recognize_google(audio)\n",
    "    print(\"Recognized speech:\", text)\n",
    "except sr.UnknownValueError:\n",
    "    print(\"Google Speech Recognition could not understand the audio.\")\n",
    "except sr.RequestError as e:\n",
    "    print(\"Could not request results from Google Speech Recognition service; {0}\".format(e))\n"
   ]
  },
  {
   "cell_type": "code",
   "execution_count": 42,
   "id": "cc754282",
   "metadata": {},
   "outputs": [],
   "source": [
    "## The Effect of Noise on Speech Recognition"
   ]
  },
  {
   "cell_type": "code",
   "execution_count": 44,
   "id": "ef9d044c",
   "metadata": {},
   "outputs": [
    {
     "data": {
      "text/plain": [
       "'the stale smell of old beer lingers it takes heat to bring out the odor a cold dip restores health and Zest a salt pickle taste fine with ham tacos Al pastor are my favourite a zestful food is the hot cross bun'"
      ]
     },
     "execution_count": 44,
     "metadata": {},
     "output_type": "execute_result"
    }
   ],
   "source": [
    "# Specify the file path\n",
    "file_path = r\"C:\\Windows\\python-speech-recognition-master\\audio_files\\harvard.wav\"\n",
    "\n",
    "# Initialize the audiofile object\n",
    "jackhammer = sr.AudioFile(file_path)\n",
    "with jackhammer as source:\n",
    "    audio = r.record(source)\n",
    "    \n",
    "r.recognize_google(audio)"
   ]
  },
  {
   "cell_type": "code",
   "execution_count": 45,
   "id": "51ce6053",
   "metadata": {},
   "outputs": [
    {
     "data": {
      "text/plain": [
       "'the stale smell of old beer lingers it takes heat to bring out the odor a cold dip restores health and Zest a salt pickle tastes fine with ham tacos Al pastor are my favourite a zestful food is the hot cross bun'"
      ]
     },
     "execution_count": 45,
     "metadata": {},
     "output_type": "execute_result"
    }
   ],
   "source": [
    "with jackhammer as source:\n",
    "    r.adjust_for_ambient_noise(source)\n",
    "    audio = r.record(source)\n",
    "\n",
    "r.recognize_google(audio)"
   ]
  },
  {
   "cell_type": "code",
   "execution_count": 46,
   "id": "ff113fd1",
   "metadata": {},
   "outputs": [
    {
     "data": {
      "text/plain": [
       "'the stale smell of old beer lingers it takes heat to bring out the odor a cold dip restores health and Zest a salt pickle taste fine with ham tacos Al pastor are my favourite a zestful food is the hot cross bun'"
      ]
     },
     "execution_count": 46,
     "metadata": {},
     "output_type": "execute_result"
    }
   ],
   "source": [
    "with jackhammer as source:\n",
    "    r.adjust_for_ambient_noise(source, duration=0.5)\n",
    "    audio = r.record(source)\n",
    "r.recognize_google(audio)"
   ]
  },
  {
   "cell_type": "code",
   "execution_count": 47,
   "id": "d6dd5caa",
   "metadata": {},
   "outputs": [
    {
     "data": {
      "text/plain": [
       "{'alternative': [{'transcript': 'the stale smell of old beer lingers it takes heat to bring out the odor a cold dip restores health and Zest a salt pickle taste fine with ham tacos Al pastor are my favourite a zestful food is the hot cross bun',\n",
       "   'confidence': 0.95156175},\n",
       "  {'transcript': 'the stale smell of old beer lingers it takes heat to bring out the odor a cold dip restores health and Zest a salt pickle taste fine with ham tacos el pastor are my favourite a zestful food is the hot cross bun'},\n",
       "  {'transcript': 'the stale smell of old beer lingas it takes heat to bring out the odor a cold dip restores health and Zest a salt pickle taste fine with ham tacos Al pastor are my favourite a zestful food is the hot cross bun'},\n",
       "  {'transcript': 'the stale smell of old beer lingers it takes heat to bring out the odor a cold dip restores health and Zest a salt pickled taste fine with ham tacos Al pastor are my favourite a zestful food is the hot cross bun'},\n",
       "  {'transcript': 'the stale smell of old beer lingers it takes heat to bring out the odor a cold dip restores health and Zest a salt pickle tastes fine with ham tacos Al pastor are my favourite a zestful food is the hot cross bun'}],\n",
       " 'final': True}"
      ]
     },
     "execution_count": 47,
     "metadata": {},
     "output_type": "execute_result"
    }
   ],
   "source": [
    "r.recognize_google(audio, show_all=True)"
   ]
  },
  {
   "cell_type": "code",
   "execution_count": 48,
   "id": "e2e783e6",
   "metadata": {},
   "outputs": [],
   "source": [
    "# Working With Microphones"
   ]
  },
  {
   "cell_type": "code",
   "execution_count": null,
   "id": "cc391317",
   "metadata": {},
   "outputs": [],
   "source": []
  }
 ],
 "metadata": {
  "kernelspec": {
   "display_name": "Python 3 (ipykernel)",
   "language": "python",
   "name": "python3"
  },
  "language_info": {
   "codemirror_mode": {
    "name": "ipython",
    "version": 3
   },
   "file_extension": ".py",
   "mimetype": "text/x-python",
   "name": "python",
   "nbconvert_exporter": "python",
   "pygments_lexer": "ipython3",
   "version": "3.11.5"
  }
 },
 "nbformat": 4,
 "nbformat_minor": 5
}
